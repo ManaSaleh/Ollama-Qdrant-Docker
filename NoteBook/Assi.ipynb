{
 "cells": [
  {
   "cell_type": "code",
   "execution_count": null,
   "metadata": {},
   "outputs": [],
   "source": [
    "!ollama pull nomic-embed-text"
   ]
  },
  {
   "cell_type": "code",
   "execution_count": null,
   "metadata": {},
   "outputs": [],
   "source": [
    "!sudo docker run -d   --name qdrant-container   -p 6333:6333   -v $(pwd)/qdrant_data:/qdrant/storage   qdrant/qdrant"
   ]
  },
  {
   "cell_type": "markdown",
   "metadata": {},
   "source": [
    "## Load Data"
   ]
  },
  {
   "cell_type": "code",
   "execution_count": 9,
   "metadata": {},
   "outputs": [],
   "source": [
    "from langchain_community.embeddings import OllamaEmbeddings\n",
    "from qdrant_client import QdrantClient\n",
    "from qdrant_client.http import models\n",
    "import faiss\n",
    "import pickle\n",
    "import numpy as np\n",
    "import pandas as pd"
   ]
  },
  {
   "cell_type": "code",
   "execution_count": 10,
   "metadata": {},
   "outputs": [],
   "source": [
    "with open('metadata_with_chunck_embeddings.pkl', 'rb') as file:\n",
    "    data = pickle.load(file)"
   ]
  },
  {
   "cell_type": "code",
   "execution_count": null,
   "metadata": {
    "scrolled": true
   },
   "outputs": [],
   "source": [
    "data[0]"
   ]
  },
  {
   "cell_type": "code",
   "execution_count": 13,
   "metadata": {},
   "outputs": [],
   "source": [
    "chunk_embeddings = []\n",
    "for doc in data:\n",
    "    chunk_embeddings.extend(doc['chunk_embeddings'])"
   ]
  },
  {
   "cell_type": "code",
   "execution_count": 14,
   "metadata": {},
   "outputs": [],
   "source": [
    "chunk_embeddings = np.array(chunk_embeddings)"
   ]
  },
  {
   "cell_type": "code",
   "execution_count": 15,
   "metadata": {},
   "outputs": [
    {
     "data": {
      "text/plain": [
       "numpy.ndarray"
      ]
     },
     "execution_count": 15,
     "metadata": {},
     "output_type": "execute_result"
    }
   ],
   "source": [
    "type(chunk_embeddings)"
   ]
  },
  {
   "cell_type": "code",
   "execution_count": 16,
   "metadata": {},
   "outputs": [],
   "source": [
    "model = OllamaEmbeddings(model='nomic-embed-text')"
   ]
  },
  {
   "cell_type": "code",
   "execution_count": 17,
   "metadata": {},
   "outputs": [],
   "source": [
    "d = chunk_embeddings.shape[1]"
   ]
  },
  {
   "cell_type": "code",
   "execution_count": 18,
   "metadata": {},
   "outputs": [],
   "source": [
    "index = faiss.IndexHNSWFlat(d, 64)"
   ]
  },
  {
   "cell_type": "code",
   "execution_count": 19,
   "metadata": {},
   "outputs": [
    {
     "data": {
      "text/plain": [
       "True"
      ]
     },
     "execution_count": 19,
     "metadata": {},
     "output_type": "execute_result"
    }
   ],
   "source": [
    "index.is_trained"
   ]
  },
  {
   "cell_type": "code",
   "execution_count": 20,
   "metadata": {},
   "outputs": [],
   "source": [
    "index.add(chunk_embeddings)"
   ]
  },
  {
   "cell_type": "code",
   "execution_count": 21,
   "metadata": {},
   "outputs": [],
   "source": [
    "faiss.write_index(index, \"faiss_index.index\")"
   ]
  },
  {
   "cell_type": "code",
   "execution_count": 22,
   "metadata": {},
   "outputs": [],
   "source": [
    "index = faiss.read_index(\"faiss_index.index\")"
   ]
  },
  {
   "cell_type": "code",
   "execution_count": 25,
   "metadata": {},
   "outputs": [],
   "source": [
    "client = QdrantClient(\"http://localhost:6333\")\n",
    "collection_name = \"documents_collection\""
   ]
  },
  {
   "cell_type": "code",
   "execution_count": 26,
   "metadata": {},
   "outputs": [
    {
     "name": "stderr",
     "output_type": "stream",
     "text": [
      "/tmp/ipykernel_14226/1638598554.py:1: DeprecationWarning: `recreate_collection` method is deprecated and will be removed in the future. Use `collection_exists` to check collection existence and `create_collection` instead.\n",
      "  client.recreate_collection(\n"
     ]
    },
    {
     "data": {
      "text/plain": [
       "True"
      ]
     },
     "execution_count": 26,
     "metadata": {},
     "output_type": "execute_result"
    }
   ],
   "source": [
    "client.recreate_collection(\n",
    "    collection_name=collection_name,\n",
    "    vectors_config=models.VectorParams(size=d, distance=models.Distance.COSINE),\n",
    ")"
   ]
  },
  {
   "cell_type": "code",
   "execution_count": 27,
   "metadata": {},
   "outputs": [],
   "source": [
    "points = []\n",
    "for doc_id, doc in enumerate(data):\n",
    "    for chunk_id, embedding in enumerate(doc['chunk_embeddings']):\n",
    "        points.append(\n",
    "            models.PointStruct(\n",
    "                id=len(points),  # Ensure unique ID for each chunk\n",
    "                vector=embedding,\n",
    "                payload={\n",
    "                    \"author\": doc['author'],\n",
    "                    \"title\": doc['title'],\n",
    "                    \"publish_date\": doc['publish_date'].isoformat(),\n",
    "                    \"full_text\": doc['full_text'],\n",
    "                    \"url\": doc['url'],\n",
    "                }\n",
    "            )\n",
    "        )"
   ]
  },
  {
   "cell_type": "code",
   "execution_count": 28,
   "metadata": {},
   "outputs": [],
   "source": [
    "batch_size = 32  \n",
    "\n",
    "for i in range(0, len(points), batch_size):\n",
    "    batch = points[i:i + batch_size]\n",
    "    try:\n",
    "        client.upsert(collection_name=collection_name, points=batch)\n",
    "    except Exception as e:\n",
    "        print(f\"Error during batch upsert: {e}\")\n",
    "        break"
   ]
  },
  {
   "cell_type": "code",
   "execution_count": 29,
   "metadata": {},
   "outputs": [],
   "source": [
    "query = 'Harvard and UNC affirmative-action cases last term'\n",
    "query = model.embed_query(query)\n",
    "query_embedding = np.array([query])"
   ]
  },
  {
   "cell_type": "code",
   "execution_count": 30,
   "metadata": {},
   "outputs": [],
   "source": [
    "k = 50\n",
    "distances, indices = index.search(query_embedding, k)"
   ]
  },
  {
   "cell_type": "code",
   "execution_count": 31,
   "metadata": {},
   "outputs": [],
   "source": [
    "result_ids = indices[0].tolist()"
   ]
  },
  {
   "cell_type": "code",
   "execution_count": 32,
   "metadata": {},
   "outputs": [],
   "source": [
    "results = client.retrieve(collection_name=collection_name, ids=result_ids)"
   ]
  },
  {
   "cell_type": "code",
   "execution_count": 33,
   "metadata": {},
   "outputs": [
    {
     "data": {
      "text/plain": [
       "50"
      ]
     },
     "execution_count": 33,
     "metadata": {},
     "output_type": "execute_result"
    }
   ],
   "source": [
    "len(results)"
   ]
  },
  {
   "cell_type": "code",
   "execution_count": 34,
   "metadata": {},
   "outputs": [],
   "source": [
    "top_3_results = results[:3]"
   ]
  },
  {
   "cell_type": "code",
   "execution_count": 35,
   "metadata": {
    "scrolled": true
   },
   "outputs": [
    {
     "name": "stdout",
     "output_type": "stream",
     "text": [
      "Author: Harvard Gazette\n",
      "Title: Opportunity to vote for Board of Overseers, HAA elected directors\n",
      "Publish Date: 1970-01-01T00:27:56.476804\n",
      "Full Text: This spring, Harvard degree holders will have the opportunity to vote for new members of the Harvard Board of Overseers and elected directors of the Harvard Alumni Association (HAA).\n",
      "The elections will begin March 31. Eligible voters can vote either online or by paper ballot. Completed ballots must be received by 5 p.m. (EDT) on May 16. All holders of Harvard degrees as of Jan. 1, except officers of instruction and government at Harvard and members of the Harvard Corporation, are entitled to vote for Overseer candidates. All Harvard degree holders as of Jan. 1 may vote for HAA elected directors.\n",
      "The candidates listed below have been named by the nominating committee appointed by the Harvard Alumni Association’s volunteer leadership.  They will be considered by voters for five anticipated vacancies on the Board of Overseers and for six openings among the HAA elected directors.\n",
      "The candidates’ names appear below in ballot order, as determined by lot.\n",
      "Overseer candidates\n",
      "The HAA nominating committee has proposed the following candidates for the 2023 election:\n",
      "Srishti Gupta Narasimhan\n",
      "A.B. ’97, A.M. ’97, M.D. ’03, M.P.P. ’03\n",
      "M.Phil ’98, University of Cambridge\n",
      "Basel, Switzerland\n",
      "Srishti Gupta Narasimhan, formerly of McKinsey & Co., is a board director of Idorsia Pharmaceuticals and the Norrsken Foundation.\n",
      "Sylvia Mathews Burwell\n",
      "A.B. ’87\n",
      "B.A. ’90, University of Oxford\n",
      "Washington, D.C.\n",
      "Sylvia Mathews Burwell is president of American University and former Secretary of the U.S. Department of Health and Human Services.\n",
      "Vanessa W. Liu\n",
      "A.B. ’96, J.D. ’03\n",
      "New York, New York\n",
      "Vanessa Liu is founder and CEO of Sugarwork, a software company that enables flexible work and knowledge transfer, and a past president of the Harvard Alumni Association.\n",
      "Fiona Hill\n",
      "A.M. ’91, Ph.D. ’98\n",
      "M.A. ’89, University of St. Andrews\n",
      "Bethesda, Maryland\n",
      "Fiona Hill, former National Security Council senior director for European and Russian Affairs, is chancellor of Durham University (U.K.) and senior fellow at the Brookings Institution.  \n",
      "Robert L. Satcher Jr.\n",
      "M.D. ’94\n",
      "S.B. ’86, Ph.D. ’93, Massachusetts Institute of Technology\n",
      "Houston\n",
      "Robert Satcher, a former NASA astronaut, is associate professor of orthopedic oncology at the University of Texas M.D. Anderson Cancer Center.\n",
      "Jeffrey D. Dunn\n",
      "A.B. ’77, M.B.A. ’81\n",
      "Boston\n",
      "Jeffrey Dunn is interim president and CEO of the Boston Symphony Orchestra and former executive chair, president, and CEO of Sesame Workshop.\n",
      "Arturo Elizondo\n",
      "A.B. ’14\n",
      "San Francisco\n",
      "Arturo Elizondo is co-founder and CEO of The EVERY Company (formerly Clara Foods), which seeks to unlock the potential of animal-free proteins.\n",
      " Luis A. Ubiñas\n",
      "A.B. ’85, M.B.A. ’89\n",
      "Weston, Vermont\n",
      "Luis Ubiñas is former president of the Ford Foundation and current chair of the Statue of Liberty – Ellis Island Foundation.\n",
      "\n",
      "HAA elected director candidates\n",
      "The HAA nominating committee has proposed the following elected director candidates for the 2023 election:\n",
      "Barbara R. Barreno-Paschall\n",
      "A.B. ’07\n",
      "J.D. ’11, Vanderbilt University; M.P.P. ’17, University of Chicago\n",
      "Vice chair and commissioner, Human Rights Commission, State of Illinois\n",
      "Chicago\n",
      "Miya Omori Yamada\n",
      "Ed.M. ’89, Ed.M. ’92, Ed.D. ’93\n",
      "A.B. ’88, Smith College\n",
      "Pre- and lower school psychologist, Packer Collegiate Institute\n",
      "New York, New York\n",
      "Theodora Skeadas\n",
      "A.B. ’12, M.P.P. ’16\n",
      "Public policy associate, Twitter\n",
      "Cambridge, Massachusetts\n",
      "Angela A. Sun\n",
      "A.B. ’96, J.D. ’01\n",
      "Venture capital and board director, Western Union, Cushman & Wakefield, and Apollo Strategic Growth Capital\n",
      "New York, New York\n",
      "Rudy N. Brioché\n",
      "M.P.P. ’00\n",
      "B.A. ’92, Rutgers College; J.D. ’95, University of Maryland\n",
      "Vice president for Global Public Policy and Policy Counsel, Comcast Corporation\n",
      "Alexandria, Virginia\n",
      "Anirudh Suri\n",
      "M.P.A. ’14\n",
      "B.A. ’06, Haverford College; M.B.A. ’12, University of Pennsylvania\n",
      "Founding partner, India Internet Fund and Zanskar Climate Fund\n",
      "New Delhi, India\n",
      "Jason W. Young\n",
      "A.B. ’04\n",
      "Managing partner, Totally Human\n",
      "Atlanta\n",
      "Yvonne O. Osirim\n",
      "A.B.  ’01, J.D. ’07\n",
      "M.A. ’03, University of Cape Town\n",
      "Executive director, Human Health Ethics and Compliance, Merck\n",
      "Philadelphia\n",
      "Judith L. Norsigian\n",
      "A.B. ’70\n",
      "Retired executive director, Our Bodies Ourselves\n",
      "Chestnut Hill, Massachusetts\n",
      "The above candidates for both Overseer and HAA elected director emerged from this past fall’s deliberations of the alumni-led HAA nominating committee. The committee’s voting members include 13 alumni, broadly diverse in their backgrounds and experience, who are appointed by the HAA’s volunteer leadership. Among the committee’s members are three current or recent Overseers, who bring direct knowledge of the workings and needs of the Board.\n",
      "The nominating committee selects candidates through extensive deliberations conducted in a series of meetings each fall. In formulating its slates , the committee reviews materials about hundreds of prospective candidates suggested by alumni and others in the Harvard community.\n",
      "In developing a diverse slate of Overseer candidates, while taking account of the Board’s present composition and the University’s future needs, the nominating committee considers candidates with prior board service and an understanding of complex organizations; experiences and accomplishments in an academic or professional domain; a broad interest in and concern for higher education, including the interests of Harvard and the general quality and ongoing development of its education and research mission; a commitment to investing the time and energy required for effective service; and the ability to lead as well as to build consensus.\n",
      "The Board of Overseers is one of Harvard’s two governing boards, along with the President and Fellows, also known as the Corporation. Formally established in 1642, the board plays an integral role in the governance of the University. As a central part of its work, the board directs the visitation process, the primary means for periodic external assessment of Harvard’s Schools and departments. Through its array of standing committees, and the roughly 50 visiting committees that report to them, the board probes the quality of Harvard’s programs and assures that the University remains true to its charter as a place of learning. More generally, drawing on its members’ diverse experience and expertise, the board provides counsel to the University’s leadership on priorities, plans, and strategic initiatives. The board also has the power of consent to certain actions such as the election of Corporation members. The current membership of the board is listed here.\n",
      "The HAA Board, including its elected directors, is an advisory board that aims to foster a sense of community, engagement, and University citizenship among Harvard alumni around the world. The work focuses on developing volunteer leadership and increasing and deepening alumni engagement through an array of programs that support alumni communities worldwide. In recent years, the board’s priorities have included strengthening outreach to recent graduates and graduate school alumni; supporting anti-racism work in alumni communities; and continuing to build and promote inclusive communities.\n",
      "URL: https://news.harvard.edu/gazette/story/2023/02/opportunity-to-vote-for-board-of-overseers-haa-elected-directors/\n",
      "====================================================================================================\n",
      "Author: Robby Soave\n",
      "Title: How Affirmative Action Lost at the Supreme Court\n",
      "Publish Date: 1970-01-01T00:28:14.080831\n",
      "Full Text: \n",
      "\n",
      "\n",
      "\n",
      "\n",
      "\n",
      "\n",
      "The end of affirmative action in university admissions has been prophesied since 2003, when the Supreme Court issued its decision in Grutter v. Bollinger. In the majority opinion, Justice Sandra Day O'Connor wrote that \"25 years from now, the use of racial preferences will no longer be necessary to further the interest approved today.\" That reckoning has now arrived, and five years earlier than predicted: In June, the Supreme Court ruled 6–3 that public universities must stop favoring certain applicants, and disfavoring others, based on their race or ethnicity. \"Eliminating racial discrimination means eliminating all of it,\" Chief Justice John Roberts declared, writing for the majority in Students for Fair Admissions v. President and Fellows of Harvard College. \"In other words, the student must be treated based on his or her experiences as an individual—not on the basis of race.\" For everyone who values fairness, individuality, and nondiscrimination, this decision could not have come soon enough. The perniciousness of the admissions system was on full display, thanks to the details of the case. The plaintiff—an advocacy organization that filed suits against Harvard and the University of North Carolina at Chapel Hill (UNC)—persuasively demonstrated that race-based admissions schemes systematically disadvantaged Asian-American students. UNC, for instance, admitted more than 80 percent of its black applicants but less than 70 percent of its white and Asian applicants. (Reason Foundation, the nonprofit that publishes this magazine, submitted an amicus brief in support of the plaintiff.) At Harvard, discriminatory practices were overt and began with recruitment. Admissions officials would send letters of interest to black and Hispanic high schoolers who received a score of 1100 or more on the SAT. Asian Americans were ignored unless they received at least a 1350. During the actual admissions process, students were sorted into \"deciles\"—10 levels of academic performance. Asian Americans in the top decile were less likely to get in than black students in the fourth decile. The plaintiff also submitted evidence that Harvard admissions officers tended to give Asian Americans negative scores on the personality rating, a wholly subjective criterion. Favoritism also extended to white applicants from what Harvard describes as \"sparse country\": rural states with historically low enrollment numbers. The result was that applicants were judged not solely on the merits of their individual achievements but on immutable characteristics like their race and place of origin. These schemes, according to the Supreme Court, violated federal law and, in UNC's case, the 14th Amendment's Equal Protection Clause. \"Many universities have for too long wrongly concluded that the touchstone of an individual's identity is not challenges bested, skills built, or lessons learned, but the color of their skin,\" wrote Roberts. \"This Nation's constitutional history does not tolerate that choice.\" Title VI of the 1964 Civil Rights Act prohibits entities that receive federal funding from practicing racial discrimination. But affirmative action—a scheme to benefit racial minorities in hiring, contracting, and school admissions—was viewed as an exception; the idea was to practice discrimination on behalf of historically marginalized groups in order to make amends for past wrongs. In 2003, a pair of Supreme Court rulings involving the University of Michigan—Gratz v. Bollinger and the aforementioned Grutter—upended that justification. In Gratz, the Court held 6–3 that Michigan's undergraduate admissions program went too far in its consideration of race. The university used a point system, with 100 points guaranteeing admission; belonging to an underrepresented minority group was worth 20 points, while a perfect SAT score was worth only 12 points. In Grutter, however, the Court permitted Michigan's law school to consider race as one factor among many in admissions decisions, on the grounds that a racially diverse student body was a \"compelling interest\" of the state. While the decision preserved affirmative action in some form—for perhaps 25 years, per O'Connor's time limit—it forced higher education administrators to change their reasoning: Henceforth, they would have to defend race-based admissions as diversity enhancement programs. Whether affirmative action actually promotes diversity is up for debate, of course. Schools that engage in racial gerrymandering may succeed in making their campuses more diverse in the most superficial sense without doing anything to improve intellectual, political, socioeconomic, or geographic diversity. No one in a position to defend Harvard's admissions system ever argued that the school needed more conservative or libertarian representation; in practice, the institution's position was simply that it needed fewer Asians. At a time when the Supreme Court is often accused of being out of touch and counter-majoritarian, it's worth mentioning that Students for Fair Admissions undeniably reflects the will of the people. Race-based admissions systems are opposed by 69 percent of poll respondents, including 58 percent of Democrats, according to The New York Times. Voters in California, a deep-blue state, banned affirmative action twice—in 1996 and again, for good measure, in 2020. Faced with this reality, many defenders of affirmative action are trying to change the subject. Rep. Alexandria Ocasio-Cortez (D–N.Y.), for instance, complained that the Supreme Court had ignored a more serious example of unfairness in higher education. \"If SCOTUS was serious about their ludicrous 'colorblindness' claims,\" she wrote on Twitter, \"they would have abolished legacy admissions, aka affirmative action for the privileged.\" Other progressive Democrats, such as Reps. Cori Bush (D–Mo.) and Jamaal Bowman (D–N.Y.), made similar observations. It should go without saying, but the justices declined to adjudicate legacy admissions because this issue was not before them. That said, legislators do not need to wait for the Court; they can and should abolish the practice within public institutions. The widespread practice of granting preferential treatment to the scions of alumni is unfair and has no place at taxpayer-funded colleges and universities. The fact that legacy admissions still exist is not a reason to maintain affirmative action; eliminating explicit racial discrimination is a noble goal in and of itself. But to any naysayers who disdain the Supreme Court's ruling because they think legacy admissions should face the same fate: Your terms are acceptable.The post How Affirmative Action Lost at the Supreme Court appeared first on Reason.com.\n",
      "URL: https://reason.com/2023/09/07/affirmative-action-loses-in-court/\n",
      "====================================================================================================\n",
      "Author: Ilya Shapiro\n",
      "Title: Amicus Brief: Coalition for TJ v. Fairfax County School District\n",
      "Publish Date: 1970-01-01T00:28:15.311346\n",
      "Full Text: A group of parents challenged the Fairfax County, Virginia school board’s revamping of admissions policies at the Thomas Jefferson High School for Science and Technology (“TJ”) as racially discriminatory against Asian-American applicants. TJ specializes in advanced math and science education and for years has been ranked the number one public high school in the country. In Fall 2020, the board voted to overhaul TJ’s admissions process, notably abolishing standardized testing and introducing a rule that approximately 450 seats in each class would go to the top-rated 1.5% students from each county middle school. In allocating the remaining 100 seats, students from underrepresented middle schools would receive an admissions boost.\n",
      "\n",
      "Because Asian-American students are disproportionately concentrated in Fairfax County middle schools that have specialized offerings for gifted children, these changes reduced their numbers significantly. This was not unintentional: deliberations about revamping the admissions procedures were infected with talk of racial balancing from the start. The Coalition for TJ won summary judgment in the district court, but the U.S. Court of Appeals for the Fourth Circuit (where MI filed a brief last year) reversed. The Coalition has now petitioned the Supreme Court to take the case and MI has joined the American Civil Rights Project and Hamilton Lincoln Law Institute on a brief supporting that effort.\n",
      "\n",
      "We argue that the Fourth Circuit misread the record under the wrong legal standard to reverse the district court’s finding of discriminatory intent, that it applied the wrong substantive standard to allow the school board to evade strict scrutiny, and that TJ’s experience under the board’s admissions policy reflects no educational gains from enhanced “diversity” as the board construes that term. Particularly after its decision in the Harvard and UNC affirmative-action cases last term, the Supreme Court ought to take up this case and prevent unconstitutional race-balancing through facially race-neutral methods.\n",
      "\n",
      "Ilya Shapiro is a senior fellow and director of Constitutional Studies at the Manhattan Institute. Follow him on Twitter here.\n",
      "\n",
      "Photo by DNY59/iStock\n",
      "URL: https://manhattan.institute/article/amicus-brief-coalition-for-tj-v-fairfax-county-school-district\n",
      "====================================================================================================\n"
     ]
    }
   ],
   "source": [
    "for result in top_3_results:\n",
    "    print(f\"Author: {result.payload['author']}\")\n",
    "    print(f\"Title: {result.payload['title']}\")\n",
    "    print(f\"Publish Date: {result.payload['publish_date']}\")\n",
    "    print(f\"Full Text: {result.payload['full_text']}\")  \n",
    "    print(f\"URL: {result.payload['url']}\")\n",
    "    print(\"==\"*50)"
   ]
  },
  {
   "cell_type": "code",
   "execution_count": 36,
   "metadata": {},
   "outputs": [],
   "source": [
    "def cosine_similarity(vector_a, vector_b):\n",
    "    \"\"\"Compute the cosine similarity between two vectors.\"\"\"\n",
    "    vector_b = np.squeeze(vector_b)  # Ensure both vectors have the shape (768,)\n",
    "    dot_product = np.dot(vector_a, vector_b)\n",
    "    norm_a = np.linalg.norm(vector_a)\n",
    "    norm_b = np.linalg.norm(vector_b)\n",
    "    return dot_product / (norm_a * norm_b)"
   ]
  },
  {
   "cell_type": "code",
   "execution_count": 37,
   "metadata": {},
   "outputs": [],
   "source": [
    "def rerank(results, query_embedding):\n",
    "    \"\"\"\n",
    "    Rerank the top results based on a custom criterion.\n",
    "    \n",
    "    Parameters:\n",
    "    - results: List of search results to rerank.\n",
    "    - query_embedding: The embedding of the original query.\n",
    "\n",
    "    Returns:\n",
    "    - reranked_results: List of reranked results.\n",
    "    \"\"\"\n",
    "    # Example: Using cosine similarity for reranking\n",
    "    reranked_results = sorted(\n",
    "        results,\n",
    "        key=lambda result: cosine_similarity(result['embedding'], query_embedding),\n",
    "        reverse=True  # Higher scores first\n",
    "    )\n",
    "    return reranked_results"
   ]
  },
  {
   "cell_type": "code",
   "execution_count": 38,
   "metadata": {},
   "outputs": [],
   "source": [
    "mutable_results = []\n",
    "for result in top_3_results:\n",
    "    # Wrap the Record object and its embedding in a dictionary\n",
    "    embedding = model.embed_query(result.payload['full_text'])  # Generate the embedding for reranking\n",
    "    mutable_result = {\n",
    "        \"record\": result,  # The original Record object\n",
    "        \"embedding\": embedding,  # The embedding for reranking\n",
    "    }\n",
    "    mutable_results.append(mutable_result)"
   ]
  },
  {
   "cell_type": "code",
   "execution_count": 39,
   "metadata": {},
   "outputs": [],
   "source": [
    "query_embedding = np.squeeze(query_embedding) "
   ]
  },
  {
   "cell_type": "code",
   "execution_count": 40,
   "metadata": {},
   "outputs": [],
   "source": [
    "reranked_results = rerank(mutable_results, query_embedding)"
   ]
  },
  {
   "cell_type": "code",
   "execution_count": 41,
   "metadata": {},
   "outputs": [
    {
     "name": "stdout",
     "output_type": "stream",
     "text": [
      "Author: Robby Soave\n",
      "Title: How Affirmative Action Lost at the Supreme Court\n",
      "Publish Date: 1970-01-01T00:28:14.080831\n",
      "Full Text: \n",
      "\n",
      "\n",
      "\n",
      "\n",
      "\n",
      "\n",
      "The end of affirmative action in university admissions has been prophesied since 2003, when the Supreme Court issued its decision in Grutter v. Bollinger. In the majority opinion, Justice Sandra Day O'Connor wrote that \"25 years from now, the use of racial preferences will no longer be necessary to further the interest approved today.\" That reckoning has now arrived, and five years earlier than predicted: In June, the Supreme Court ruled 6–3 that public universities must stop favoring certain applicants, and disfavoring others, based on their race or ethnicity. \"Eliminating racial discrimination means eliminating all of it,\" Chief Justice John Roberts declared, writing for the majority in Students for Fair Admissions v. President and Fellows of Harvard College. \"In other words, the student must be treated based on his or her experiences as an individual—not on the basis of race.\" For everyone who values fairness, individuality, and nondiscrimination, this decision could not have come soon enough. The perniciousness of the admissions system was on full display, thanks to the details of the case. The plaintiff—an advocacy organization that filed suits against Harvard and the University of North Carolina at Chapel Hill (UNC)—persuasively demonstrated that race-based admissions schemes systematically disadvantaged Asian-American students. UNC, for instance, admitted more than 80 percent of its black applicants but less than 70 percent of its white and Asian applicants. (Reason Foundation, the nonprofit that publishes this magazine, submitted an amicus brief in support of the plaintiff.) At Harvard, discriminatory practices were overt and began with recruitment. Admissions officials would send letters of interest to black and Hispanic high schoolers who received a score of 1100 or more on the SAT. Asian Americans were ignored unless they received at least a 1350. During the actual admissions process, students were sorted into \"deciles\"—10 levels of academic performance. Asian Americans in the top decile were less likely to get in than black students in the fourth decile. The plaintiff also submitted evidence that Harvard admissions officers tended to give Asian Americans negative scores on the personality rating, a wholly subjective criterion. Favoritism also extended to white applicants from what Harvard describes as \"sparse country\": rural states with historically low enrollment numbers. The result was that applicants were judged not solely on the merits of their individual achievements but on immutable characteristics like their race and place of origin. These schemes, according to the Supreme Court, violated federal law and, in UNC's case, the 14th Amendment's Equal Protection Clause. \"Many universities have for too long wrongly concluded that the touchstone of an individual's identity is not challenges bested, skills built, or lessons learned, but the color of their skin,\" wrote Roberts. \"This Nation's constitutional history does not tolerate that choice.\" Title VI of the 1964 Civil Rights Act prohibits entities that receive federal funding from practicing racial discrimination. But affirmative action—a scheme to benefit racial minorities in hiring, contracting, and school admissions—was viewed as an exception; the idea was to practice discrimination on behalf of historically marginalized groups in order to make amends for past wrongs. In 2003, a pair of Supreme Court rulings involving the University of Michigan—Gratz v. Bollinger and the aforementioned Grutter—upended that justification. In Gratz, the Court held 6–3 that Michigan's undergraduate admissions program went too far in its consideration of race. The university used a point system, with 100 points guaranteeing admission; belonging to an underrepresented minority group was worth 20 points, while a perfect SAT score was worth only 12 points. In Grutter, however, the Court permitted Michigan's law school to consider race as one factor among many in admissions decisions, on the grounds that a racially diverse student body was a \"compelling interest\" of the state. While the decision preserved affirmative action in some form—for perhaps 25 years, per O'Connor's time limit—it forced higher education administrators to change their reasoning: Henceforth, they would have to defend race-based admissions as diversity enhancement programs. Whether affirmative action actually promotes diversity is up for debate, of course. Schools that engage in racial gerrymandering may succeed in making their campuses more diverse in the most superficial sense without doing anything to improve intellectual, political, socioeconomic, or geographic diversity. No one in a position to defend Harvard's admissions system ever argued that the school needed more conservative or libertarian representation; in practice, the institution's position was simply that it needed fewer Asians. At a time when the Supreme Court is often accused of being out of touch and counter-majoritarian, it's worth mentioning that Students for Fair Admissions undeniably reflects the will of the people. Race-based admissions systems are opposed by 69 percent of poll respondents, including 58 percent of Democrats, according to The New York Times. Voters in California, a deep-blue state, banned affirmative action twice—in 1996 and again, for good measure, in 2020. Faced with this reality, many defenders of affirmative action are trying to change the subject. Rep. Alexandria Ocasio-Cortez (D–N.Y.), for instance, complained that the Supreme Court had ignored a more serious example of unfairness in higher education. \"If SCOTUS was serious about their ludicrous 'colorblindness' claims,\" she wrote on Twitter, \"they would have abolished legacy admissions, aka affirmative action for the privileged.\" Other progressive Democrats, such as Reps. Cori Bush (D–Mo.) and Jamaal Bowman (D–N.Y.), made similar observations. It should go without saying, but the justices declined to adjudicate legacy admissions because this issue was not before them. That said, legislators do not need to wait for the Court; they can and should abolish the practice within public institutions. The widespread practice of granting preferential treatment to the scions of alumni is unfair and has no place at taxpayer-funded colleges and universities. The fact that legacy admissions still exist is not a reason to maintain affirmative action; eliminating explicit racial discrimination is a noble goal in and of itself. But to any naysayers who disdain the Supreme Court's ruling because they think legacy admissions should face the same fate: Your terms are acceptable.The post How Affirmative Action Lost at the Supreme Court appeared first on Reason.com.\n",
      "URL: https://reason.com/2023/09/07/affirmative-action-loses-in-court/\n",
      "Cosine Similarity: 0.41370830128758457\n",
      "====================================================================================================\n",
      "Author: Ilya Shapiro\n",
      "Title: Amicus Brief: Coalition for TJ v. Fairfax County School District\n",
      "Publish Date: 1970-01-01T00:28:15.311346\n",
      "Full Text: A group of parents challenged the Fairfax County, Virginia school board’s revamping of admissions policies at the Thomas Jefferson High School for Science and Technology (“TJ”) as racially discriminatory against Asian-American applicants. TJ specializes in advanced math and science education and for years has been ranked the number one public high school in the country. In Fall 2020, the board voted to overhaul TJ’s admissions process, notably abolishing standardized testing and introducing a rule that approximately 450 seats in each class would go to the top-rated 1.5% students from each county middle school. In allocating the remaining 100 seats, students from underrepresented middle schools would receive an admissions boost.\n",
      "\n",
      "Because Asian-American students are disproportionately concentrated in Fairfax County middle schools that have specialized offerings for gifted children, these changes reduced their numbers significantly. This was not unintentional: deliberations about revamping the admissions procedures were infected with talk of racial balancing from the start. The Coalition for TJ won summary judgment in the district court, but the U.S. Court of Appeals for the Fourth Circuit (where MI filed a brief last year) reversed. The Coalition has now petitioned the Supreme Court to take the case and MI has joined the American Civil Rights Project and Hamilton Lincoln Law Institute on a brief supporting that effort.\n",
      "\n",
      "We argue that the Fourth Circuit misread the record under the wrong legal standard to reverse the district court’s finding of discriminatory intent, that it applied the wrong substantive standard to allow the school board to evade strict scrutiny, and that TJ’s experience under the board’s admissions policy reflects no educational gains from enhanced “diversity” as the board construes that term. Particularly after its decision in the Harvard and UNC affirmative-action cases last term, the Supreme Court ought to take up this case and prevent unconstitutional race-balancing through facially race-neutral methods.\n",
      "\n",
      "Ilya Shapiro is a senior fellow and director of Constitutional Studies at the Manhattan Institute. Follow him on Twitter here.\n",
      "\n",
      "Photo by DNY59/iStock\n",
      "URL: https://manhattan.institute/article/amicus-brief-coalition-for-tj-v-fairfax-county-school-district\n",
      "Cosine Similarity: 0.3722036599286264\n",
      "====================================================================================================\n",
      "Author: Harvard Gazette\n",
      "Title: Opportunity to vote for Board of Overseers, HAA elected directors\n",
      "Publish Date: 1970-01-01T00:27:56.476804\n",
      "Full Text: This spring, Harvard degree holders will have the opportunity to vote for new members of the Harvard Board of Overseers and elected directors of the Harvard Alumni Association (HAA).\n",
      "The elections will begin March 31. Eligible voters can vote either online or by paper ballot. Completed ballots must be received by 5 p.m. (EDT) on May 16. All holders of Harvard degrees as of Jan. 1, except officers of instruction and government at Harvard and members of the Harvard Corporation, are entitled to vote for Overseer candidates. All Harvard degree holders as of Jan. 1 may vote for HAA elected directors.\n",
      "The candidates listed below have been named by the nominating committee appointed by the Harvard Alumni Association’s volunteer leadership.  They will be considered by voters for five anticipated vacancies on the Board of Overseers and for six openings among the HAA elected directors.\n",
      "The candidates’ names appear below in ballot order, as determined by lot.\n",
      "Overseer candidates\n",
      "The HAA nominating committee has proposed the following candidates for the 2023 election:\n",
      "Srishti Gupta Narasimhan\n",
      "A.B. ’97, A.M. ’97, M.D. ’03, M.P.P. ’03\n",
      "M.Phil ’98, University of Cambridge\n",
      "Basel, Switzerland\n",
      "Srishti Gupta Narasimhan, formerly of McKinsey & Co., is a board director of Idorsia Pharmaceuticals and the Norrsken Foundation.\n",
      "Sylvia Mathews Burwell\n",
      "A.B. ’87\n",
      "B.A. ’90, University of Oxford\n",
      "Washington, D.C.\n",
      "Sylvia Mathews Burwell is president of American University and former Secretary of the U.S. Department of Health and Human Services.\n",
      "Vanessa W. Liu\n",
      "A.B. ’96, J.D. ’03\n",
      "New York, New York\n",
      "Vanessa Liu is founder and CEO of Sugarwork, a software company that enables flexible work and knowledge transfer, and a past president of the Harvard Alumni Association.\n",
      "Fiona Hill\n",
      "A.M. ’91, Ph.D. ’98\n",
      "M.A. ’89, University of St. Andrews\n",
      "Bethesda, Maryland\n",
      "Fiona Hill, former National Security Council senior director for European and Russian Affairs, is chancellor of Durham University (U.K.) and senior fellow at the Brookings Institution.  \n",
      "Robert L. Satcher Jr.\n",
      "M.D. ’94\n",
      "S.B. ’86, Ph.D. ’93, Massachusetts Institute of Technology\n",
      "Houston\n",
      "Robert Satcher, a former NASA astronaut, is associate professor of orthopedic oncology at the University of Texas M.D. Anderson Cancer Center.\n",
      "Jeffrey D. Dunn\n",
      "A.B. ’77, M.B.A. ’81\n",
      "Boston\n",
      "Jeffrey Dunn is interim president and CEO of the Boston Symphony Orchestra and former executive chair, president, and CEO of Sesame Workshop.\n",
      "Arturo Elizondo\n",
      "A.B. ’14\n",
      "San Francisco\n",
      "Arturo Elizondo is co-founder and CEO of The EVERY Company (formerly Clara Foods), which seeks to unlock the potential of animal-free proteins.\n",
      " Luis A. Ubiñas\n",
      "A.B. ’85, M.B.A. ’89\n",
      "Weston, Vermont\n",
      "Luis Ubiñas is former president of the Ford Foundation and current chair of the Statue of Liberty – Ellis Island Foundation.\n",
      "\n",
      "HAA elected director candidates\n",
      "The HAA nominating committee has proposed the following elected director candidates for the 2023 election:\n",
      "Barbara R. Barreno-Paschall\n",
      "A.B. ’07\n",
      "J.D. ’11, Vanderbilt University; M.P.P. ’17, University of Chicago\n",
      "Vice chair and commissioner, Human Rights Commission, State of Illinois\n",
      "Chicago\n",
      "Miya Omori Yamada\n",
      "Ed.M. ’89, Ed.M. ’92, Ed.D. ’93\n",
      "A.B. ’88, Smith College\n",
      "Pre- and lower school psychologist, Packer Collegiate Institute\n",
      "New York, New York\n",
      "Theodora Skeadas\n",
      "A.B. ’12, M.P.P. ’16\n",
      "Public policy associate, Twitter\n",
      "Cambridge, Massachusetts\n",
      "Angela A. Sun\n",
      "A.B. ’96, J.D. ’01\n",
      "Venture capital and board director, Western Union, Cushman & Wakefield, and Apollo Strategic Growth Capital\n",
      "New York, New York\n",
      "Rudy N. Brioché\n",
      "M.P.P. ’00\n",
      "B.A. ’92, Rutgers College; J.D. ’95, University of Maryland\n",
      "Vice president for Global Public Policy and Policy Counsel, Comcast Corporation\n",
      "Alexandria, Virginia\n",
      "Anirudh Suri\n",
      "M.P.A. ’14\n",
      "B.A. ’06, Haverford College; M.B.A. ’12, University of Pennsylvania\n",
      "Founding partner, India Internet Fund and Zanskar Climate Fund\n",
      "New Delhi, India\n",
      "Jason W. Young\n",
      "A.B. ’04\n",
      "Managing partner, Totally Human\n",
      "Atlanta\n",
      "Yvonne O. Osirim\n",
      "A.B.  ’01, J.D. ’07\n",
      "M.A. ’03, University of Cape Town\n",
      "Executive director, Human Health Ethics and Compliance, Merck\n",
      "Philadelphia\n",
      "Judith L. Norsigian\n",
      "A.B. ’70\n",
      "Retired executive director, Our Bodies Ourselves\n",
      "Chestnut Hill, Massachusetts\n",
      "The above candidates for both Overseer and HAA elected director emerged from this past fall’s deliberations of the alumni-led HAA nominating committee. The committee’s voting members include 13 alumni, broadly diverse in their backgrounds and experience, who are appointed by the HAA’s volunteer leadership. Among the committee’s members are three current or recent Overseers, who bring direct knowledge of the workings and needs of the Board.\n",
      "The nominating committee selects candidates through extensive deliberations conducted in a series of meetings each fall. In formulating its slates , the committee reviews materials about hundreds of prospective candidates suggested by alumni and others in the Harvard community.\n",
      "In developing a diverse slate of Overseer candidates, while taking account of the Board’s present composition and the University’s future needs, the nominating committee considers candidates with prior board service and an understanding of complex organizations; experiences and accomplishments in an academic or professional domain; a broad interest in and concern for higher education, including the interests of Harvard and the general quality and ongoing development of its education and research mission; a commitment to investing the time and energy required for effective service; and the ability to lead as well as to build consensus.\n",
      "The Board of Overseers is one of Harvard’s two governing boards, along with the President and Fellows, also known as the Corporation. Formally established in 1642, the board plays an integral role in the governance of the University. As a central part of its work, the board directs the visitation process, the primary means for periodic external assessment of Harvard’s Schools and departments. Through its array of standing committees, and the roughly 50 visiting committees that report to them, the board probes the quality of Harvard’s programs and assures that the University remains true to its charter as a place of learning. More generally, drawing on its members’ diverse experience and expertise, the board provides counsel to the University’s leadership on priorities, plans, and strategic initiatives. The board also has the power of consent to certain actions such as the election of Corporation members. The current membership of the board is listed here.\n",
      "The HAA Board, including its elected directors, is an advisory board that aims to foster a sense of community, engagement, and University citizenship among Harvard alumni around the world. The work focuses on developing volunteer leadership and increasing and deepening alumni engagement through an array of programs that support alumni communities worldwide. In recent years, the board’s priorities have included strengthening outreach to recent graduates and graduate school alumni; supporting anti-racism work in alumni communities; and continuing to build and promote inclusive communities.\n",
      "URL: https://news.harvard.edu/gazette/story/2023/02/opportunity-to-vote-for-board-of-overseers-haa-elected-directors/\n",
      "Cosine Similarity: 0.36725537823832516\n",
      "====================================================================================================\n"
     ]
    }
   ],
   "source": [
    "# Display the reranked results\n",
    "for result in reranked_results:\n",
    "    record = result['record']  # This is the original Record object\n",
    "    print(f\"Author: {record.payload['author']}\")\n",
    "    print(f\"Title: {record.payload['title']}\")\n",
    "    print(f\"Publish Date: {record.payload['publish_date']}\")\n",
    "    print(f\"Full Text: {record.payload['full_text']}\")  # Truncate long text for brevity\n",
    "    print(f\"URL: {record.payload['url']}\")\n",
    "    print(f\"Cosine Similarity: {cosine_similarity(result['embedding'], query_embedding)}\")\n",
    "    print(\"==\"*50)"
   ]
  },
  {
   "cell_type": "code",
   "execution_count": null,
   "metadata": {
    "scrolled": true
   },
   "outputs": [],
   "source": [
    "!ollama pull llama3"
   ]
  },
  {
   "cell_type": "markdown",
   "metadata": {},
   "source": [
    "## Retreval and Build RAG"
   ]
  },
  {
   "cell_type": "code",
   "execution_count": 43,
   "metadata": {},
   "outputs": [],
   "source": [
    "from qdrant_client import QdrantClient\n",
    "from langchain_community.embeddings import OllamaEmbeddings\n",
    "import faiss\n",
    "from langchain_community.llms import Ollama\n",
    "import numpy as np\n",
    "import markdown\n",
    "from IPython.display import display, HTML"
   ]
  },
  {
   "cell_type": "code",
   "execution_count": 44,
   "metadata": {},
   "outputs": [],
   "source": [
    "index = faiss.read_index(\"faiss_index.index\")"
   ]
  },
  {
   "cell_type": "code",
   "execution_count": 45,
   "metadata": {},
   "outputs": [],
   "source": [
    "client = QdrantClient(url=\"http://localhost:6333\")"
   ]
  },
  {
   "cell_type": "code",
   "execution_count": 46,
   "metadata": {},
   "outputs": [],
   "source": [
    "embeddings = OllamaEmbeddings(model='nomic-embed-text')"
   ]
  },
  {
   "cell_type": "code",
   "execution_count": 47,
   "metadata": {},
   "outputs": [],
   "source": [
    "query = 'Harvard and UNC affirmative-action cases last term'\n",
    "query = embeddings.embed_query(query)\n",
    "query_embedding = np.array([query])"
   ]
  },
  {
   "cell_type": "code",
   "execution_count": 48,
   "metadata": {},
   "outputs": [],
   "source": [
    "k = 50\n",
    "distances, indices = index.search(query_embedding, k)"
   ]
  },
  {
   "cell_type": "code",
   "execution_count": 49,
   "metadata": {},
   "outputs": [],
   "source": [
    "result_ids = indices[0].tolist()"
   ]
  },
  {
   "cell_type": "code",
   "execution_count": 50,
   "metadata": {},
   "outputs": [],
   "source": [
    "results = client.retrieve(collection_name=\"documents_collection\", ids=result_ids)"
   ]
  },
  {
   "cell_type": "code",
   "execution_count": 51,
   "metadata": {},
   "outputs": [],
   "source": [
    "top_3_results = results[:3]"
   ]
  },
  {
   "cell_type": "code",
   "execution_count": 52,
   "metadata": {},
   "outputs": [],
   "source": [
    "def cosine_similarity(vector_a, vector_b):\n",
    "    \"\"\"Compute the cosine similarity between two vectors.\"\"\"\n",
    "    vector_b = np.squeeze(vector_b)  # Ensure both vectors have the shape (768,)\n",
    "    dot_product = np.dot(vector_a, vector_b)\n",
    "    norm_a = np.linalg.norm(vector_a)\n",
    "    norm_b = np.linalg.norm(vector_b)\n",
    "    return dot_product / (norm_a * norm_b)"
   ]
  },
  {
   "cell_type": "code",
   "execution_count": 53,
   "metadata": {},
   "outputs": [],
   "source": [
    "def rerank(results, query_embedding):\n",
    "    \"\"\"\n",
    "    Rerank the top results based on a custom criterion.\n",
    "    \n",
    "    Parameters:\n",
    "    - results: List of search results to rerank.\n",
    "    - query_embedding: The embedding of the original query.\n",
    "\n",
    "    Returns:\n",
    "    - reranked_results: List of reranked results.\n",
    "    \"\"\"\n",
    "    # Example: Using cosine similarity for reranking\n",
    "    reranked_results = sorted(\n",
    "        results,\n",
    "        key=lambda result: cosine_similarity(result['embedding'], query_embedding),\n",
    "        reverse=True  # Higher scores first\n",
    "    )\n",
    "    return reranked_results"
   ]
  },
  {
   "cell_type": "code",
   "execution_count": 54,
   "metadata": {},
   "outputs": [],
   "source": [
    "mutable_results = []\n",
    "for result in top_3_results:\n",
    "    # Wrap the Record object and its embedding in a dictionary\n",
    "    embedding = embeddings.embed_query(result.payload['full_text'])  # Generate the embedding for reranking\n",
    "    mutable_result = {\n",
    "        \"record\": result,  # The original Record object\n",
    "        \"embedding\": embedding,  # The embedding for reranking\n",
    "    }\n",
    "    mutable_results.append(mutable_result)"
   ]
  },
  {
   "cell_type": "code",
   "execution_count": 55,
   "metadata": {},
   "outputs": [],
   "source": [
    "query_embedding = np.squeeze(query_embedding) "
   ]
  },
  {
   "cell_type": "code",
   "execution_count": 56,
   "metadata": {},
   "outputs": [],
   "source": [
    "reranked_results = rerank(mutable_results, query_embedding)"
   ]
  },
  {
   "cell_type": "code",
   "execution_count": 57,
   "metadata": {},
   "outputs": [],
   "source": [
    "# Initialize a list to hold the formatted results\n",
    "saved_results = []\n",
    "\n",
    "# Loop through the reranked results and format each one\n",
    "for result in reranked_results:\n",
    "    record = result['record']  # This is the original Record object\n",
    "    \n",
    "    # Create a formatted string for each result\n",
    "    formatted_result = (\n",
    "        f\"Author: {record.payload['author']}\\n\"\n",
    "        f\"Title: {record.payload['title']}\\n\"\n",
    "        f\"Date: {record.payload['publish_date']}\\n\"\n",
    "        f\"Text: {record.payload['full_text'][:500]}...\\n\"  # Truncate long text for brevity\n",
    "        f\"URL: {record.payload['url']}\\n\"\n",
    "    )\n",
    "    \n",
    "    # Append the formatted string to the results list\n",
    "    saved_results.append(formatted_result)"
   ]
  },
  {
   "cell_type": "code",
   "execution_count": 58,
   "metadata": {},
   "outputs": [
    {
     "data": {
      "text/plain": [
       "['Author: Robby Soave\\nTitle: How Affirmative Action Lost at the Supreme Court\\nDate: 1970-01-01T00:28:14.080831\\nText: \\n\\n\\n\\n\\n\\n\\nThe end of affirmative action in university admissions has been prophesied since 2003, when the Supreme Court issued its decision in Grutter v. Bollinger. In the majority opinion, Justice Sandra Day O\\'Connor wrote that \"25 years from now, the use of racial preferences will no longer be necessary to further the interest approved today.\" That reckoning has now arrived, and five years earlier than predicted: In June, the Supreme Court ruled 6–3 that public universities must stop favoring cer...\\nURL: https://reason.com/2023/09/07/affirmative-action-loses-in-court/\\n',\n",
       " 'Author: Ilya Shapiro\\nTitle: Amicus Brief: Coalition for TJ v. Fairfax County School District\\nDate: 1970-01-01T00:28:15.311346\\nText: A group of parents challenged the Fairfax County, Virginia school board’s revamping of admissions policies at the Thomas Jefferson High School for Science and Technology (“TJ”) as racially discriminatory against Asian-American applicants. TJ specializes in advanced math and science education and for years has been ranked the number one public high school in the country. In Fall 2020, the board voted to overhaul TJ’s admissions process, notably abolishing standardized testing and introducing a ru...\\nURL: https://manhattan.institute/article/amicus-brief-coalition-for-tj-v-fairfax-county-school-district\\n',\n",
       " 'Author: Harvard Gazette\\nTitle: Opportunity to vote for Board of Overseers, HAA elected directors\\nDate: 1970-01-01T00:27:56.476804\\nText: This spring, Harvard degree holders will have the opportunity to vote for new members of the\\xa0Harvard Board of Overseers\\xa0and elected directors of the\\xa0Harvard Alumni Association\\xa0(HAA).\\nThe elections will begin March 31. Eligible voters can vote either online or by paper ballot. Completed ballots must be received by 5 p.m. (EDT) on May 16. All holders of Harvard degrees as of Jan. 1, except officers of instruction and government at Harvard and members of the Harvard Corporation, are entitled to vot...\\nURL: https://news.harvard.edu/gazette/story/2023/02/opportunity-to-vote-for-board-of-overseers-haa-elected-directors/\\n']"
      ]
     },
     "execution_count": 58,
     "metadata": {},
     "output_type": "execute_result"
    }
   ],
   "source": [
    "saved_results"
   ]
  },
  {
   "cell_type": "code",
   "execution_count": 59,
   "metadata": {},
   "outputs": [
    {
     "name": "stdout",
     "output_type": "stream",
     "text": [
      "Author: Robby Soave\n",
      "Title: How Affirmative Action Lost at the Supreme Court\n",
      "Date: 1970-01-01T00:28:14.080831\n",
      "Text: \n",
      "\n",
      "\n",
      "\n",
      "\n",
      "\n",
      "\n",
      "The end of affirmative action in university admissions has been prophesied since 2003, when the Supreme Court issued its decision in Grutter v. Bollinger. In the majority opinion, Justice Sandra Day O'Connor wrote that \"25 years from now, the use of racial preferences will no longer be necessary to further the interest approved today.\" That reckoning has now arrived, and five years earlier than predicted: In June, the Supreme Court ruled 6–3 that public universities must stop favoring cer...\n",
      "URL: https://reason.com/2023/09/07/affirmative-action-loses-in-court/\n",
      "\n",
      "Author: Ilya Shapiro\n",
      "Title: Amicus Brief: Coalition for TJ v. Fairfax County School District\n",
      "Date: 1970-01-01T00:28:15.311346\n",
      "Text: A group of parents challenged the Fairfax County, Virginia school board’s revamping of admissions policies at the Thomas Jefferson High School for Science and Technology (“TJ”) as racially discriminatory against Asian-American applicants. TJ specializes in advanced math and science education and for years has been ranked the number one public high school in the country. In Fall 2020, the board voted to overhaul TJ’s admissions process, notably abolishing standardized testing and introducing a ru...\n",
      "URL: https://manhattan.institute/article/amicus-brief-coalition-for-tj-v-fairfax-county-school-district\n",
      "\n",
      "Author: Harvard Gazette\n",
      "Title: Opportunity to vote for Board of Overseers, HAA elected directors\n",
      "Date: 1970-01-01T00:27:56.476804\n",
      "Text: This spring, Harvard degree holders will have the opportunity to vote for new members of the Harvard Board of Overseers and elected directors of the Harvard Alumni Association (HAA).\n",
      "The elections will begin March 31. Eligible voters can vote either online or by paper ballot. Completed ballots must be received by 5 p.m. (EDT) on May 16. All holders of Harvard degrees as of Jan. 1, except officers of instruction and government at Harvard and members of the Harvard Corporation, are entitled to vot...\n",
      "URL: https://news.harvard.edu/gazette/story/2023/02/opportunity-to-vote-for-board-of-overseers-haa-elected-directors/\n",
      "\n"
     ]
    }
   ],
   "source": [
    "saved_results_combined = \"\\n\".join(saved_results)\n",
    "print(saved_results_combined)"
   ]
  },
  {
   "cell_type": "markdown",
   "metadata": {},
   "source": [
    "---"
   ]
  },
  {
   "cell_type": "code",
   "execution_count": 60,
   "metadata": {},
   "outputs": [],
   "source": [
    "# Initialize the LLaMA3 model using Ollama\n",
    "llm = Ollama(model=\"llama3\")"
   ]
  },
  {
   "cell_type": "code",
   "execution_count": 75,
   "metadata": {},
   "outputs": [],
   "source": [
    "output_prompt = f\"\"\"\n",
    "Please present the following top 3 search results in a clean and readable format. Each result should be clearly separated with headers and bullet points, and should be formatted as follows: \n",
    "\n",
    "Author: [Robby Soave](URL with him name)  \n",
    "/n\n",
    "   Title: TITLE_HERE  \n",
    "/n\n",
    "   Date: DATE_HERE  \n",
    "/n\n",
    "   Text: the text here, with including the full text. \n",
    "/n\n",
    "\n",
    "{saved_results_combined}\n",
    "\n",
    "Make sure that the author's name is hyperlinked to the corresponding URL, and that the date is formatted properly. Each Author's name should be bolded, and the entire response should be returned in Markdown format.\n",
    "\n",
    "Make it as modren way\n",
    "\n",
    "last thing write I hope this is what you were looking for!\n",
    "\"\"\"\n"
   ]
  },
  {
   "cell_type": "code",
   "execution_count": 76,
   "metadata": {},
   "outputs": [],
   "source": [
    "responsellama= llm.generate(\n",
    "    prompts=[output_prompt],\n",
    "    tags=[\"example_run\"],\n",
    "    metadata={\"source\": \"user_query\"}\n",
    ")"
   ]
  },
  {
   "cell_type": "code",
   "execution_count": null,
   "metadata": {},
   "outputs": [],
   "source": [
    "print(responsellama)"
   ]
  },
  {
   "cell_type": "code",
   "execution_count": 78,
   "metadata": {},
   "outputs": [],
   "source": [
    "def render_markdown(md_text):\n",
    "    html = markdown.markdown(md_text)\n",
    "    display(HTML(html))"
   ]
  },
  {
   "cell_type": "code",
   "execution_count": 79,
   "metadata": {},
   "outputs": [
    {
     "data": {
      "text/html": [
       "<p>Here are the top 3 search results in a clean and readable format:</p>\n",
       "<p><strong>Top Search Results</strong></p>\n",
       "<h3><strong>1. How Affirmative Action Lost at the Supreme Court</strong></h3>\n",
       "<p><strong><a href=\"https://reason.com/20xx/09/07/affirmative-action-loses-in-court/\">Robby Soave</a></strong>\n",
       "Date: January 1, 1970T00:28:14.080831</p>\n",
       "<ul>\n",
       "<li>Text: The end of affirmative action in university admissions has been prophesied since 2003, when the Supreme Court issued its decision in Grutter v. Bollinger. In the majority opinion, Justice Sandra Day O'Connor wrote that \"25 years from now, the use of racial preferences will no longer be necessary to further the interest approved today.\" That reckoning has now arrived, and five years earlier than predicted: In June, the Supreme Court ruled 6–3 that public universities must stop favoring certain groups.</li>\n",
       "</ul>\n",
       "<h3><strong>2. Amicus Brief: Coalition for TJ v. Fairfax County School District</strong></h3>\n",
       "<p><strong><a href=\"https://manhattan.institute/article/amicus-brief-coalition-for-tj-v-fairfax-county-school-district\">Ilya Shapiro</a></strong>\n",
       "Date: January 1, 1970T00:28:15.311346</p>\n",
       "<ul>\n",
       "<li>Text: A group of parents challenged the Fairfax County, Virginia school board’s revamping of admissions policies at the Thomas Jefferson High School for Science and Technology (“TJ”) as racially discriminatory against Asian-American applicants. TJ specializes in advanced math and science education and for years has been ranked the number one public high school in the country.</li>\n",
       "</ul>\n",
       "<h3><strong>3. Opportunity to vote for Board of Overseers, HAA elected directors</strong></h3>\n",
       "<p><strong><a href=\"https://news.harvard.edu/gazette/story/20xx/02/opportunity-to-vote-for-board-of-overseers-haa-elected-directors/\">Harvard Gazette</a></strong>\n",
       "Date: January 1, 1970T00:27:56.470804</p>\n",
       "<ul>\n",
       "<li>Text: This spring, Harvard degree holders will have the opportunity to vote for new members of the Harvard Board of Overseers and elected directors of the Harvard Alumni Association (HAA). The elections will begin March 31.</li>\n",
       "</ul>\n",
       "<p>I hope this is what you were looking for!</p>"
      ],
      "text/plain": [
       "<IPython.core.display.HTML object>"
      ]
     },
     "metadata": {},
     "output_type": "display_data"
    }
   ],
   "source": [
    "render_markdown(responsellama.generations[0][0].text)"
   ]
  },
  {
   "cell_type": "code",
   "execution_count": null,
   "metadata": {},
   "outputs": [],
   "source": []
  }
 ],
 "metadata": {
  "kernelspec": {
   "display_name": "Python 3 (ipykernel)",
   "language": "python",
   "name": "python3"
  },
  "language_info": {
   "codemirror_mode": {
    "name": "ipython",
    "version": 3
   },
   "file_extension": ".py",
   "mimetype": "text/x-python",
   "name": "python",
   "nbconvert_exporter": "python",
   "pygments_lexer": "ipython3",
   "version": "3.12.4"
  }
 },
 "nbformat": 4,
 "nbformat_minor": 4
}
